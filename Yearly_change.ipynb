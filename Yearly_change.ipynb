{
 "cells": [
  {
   "cell_type": "code",
   "execution_count": 1,
   "id": "e84762b5",
   "metadata": {},
   "outputs": [],
   "source": [
    "# Import dependencies\n",
    "import pandas as pd\n",
    "import matplotlib.pyplot as plt\n",
    "import seaborn as sns\n",
    "import numpy as np\n",
    "from scipy.stats import norm\n",
    "from sklearn.preprocessing import StandardScaler\n",
    "from scipy import stats\n",
    "import warnings\n",
    "import sklearn as skl\n",
    "import tensorflow as tf\n",
    "from sklearn.model_selection import train_test_split\n",
    "from sklearn.preprocessing import StandardScaler, OneHotEncoder\n",
    "from sklearn.linear_model import LogisticRegression\n",
    "from sklearn.metrics import accuracy_score\n",
    "from sklearn.ensemble import RandomForestClassifier\n",
    "warnings.filterwarnings('ignore')\n",
    "%matplotlib inline"
   ]
  },
  {
   "cell_type": "code",
   "execution_count": 2,
   "id": "646fcd95",
   "metadata": {},
   "outputs": [
    {
     "data": {
      "text/html": [
       "<div>\n",
       "<style scoped>\n",
       "    .dataframe tbody tr th:only-of-type {\n",
       "        vertical-align: middle;\n",
       "    }\n",
       "\n",
       "    .dataframe tbody tr th {\n",
       "        vertical-align: top;\n",
       "    }\n",
       "\n",
       "    .dataframe thead th {\n",
       "        text-align: right;\n",
       "    }\n",
       "</style>\n",
       "<table border=\"1\" class=\"dataframe\">\n",
       "  <thead>\n",
       "    <tr style=\"text-align: right;\">\n",
       "      <th></th>\n",
       "      <th>Country (or dependency)</th>\n",
       "      <th>Population (2020)</th>\n",
       "      <th>Yearly Change %</th>\n",
       "      <th>Net Change</th>\n",
       "      <th>Density (P/Km²)</th>\n",
       "      <th>Land Area (Km²)</th>\n",
       "      <th>Migrants (net)</th>\n",
       "      <th>Fert. Rate</th>\n",
       "      <th>Med. Age</th>\n",
       "      <th>Urban Pop %</th>\n",
       "      <th>World Share %</th>\n",
       "    </tr>\n",
       "  </thead>\n",
       "  <tbody>\n",
       "    <tr>\n",
       "      <th>0</th>\n",
       "      <td>China</td>\n",
       "      <td>1439323776</td>\n",
       "      <td>0.39</td>\n",
       "      <td>5540090</td>\n",
       "      <td>153</td>\n",
       "      <td>9388211</td>\n",
       "      <td>-348399.0</td>\n",
       "      <td>1.7</td>\n",
       "      <td>38.0</td>\n",
       "      <td>61.0</td>\n",
       "      <td>18.47</td>\n",
       "    </tr>\n",
       "    <tr>\n",
       "      <th>1</th>\n",
       "      <td>India</td>\n",
       "      <td>1380004385</td>\n",
       "      <td>0.99</td>\n",
       "      <td>13586631</td>\n",
       "      <td>464</td>\n",
       "      <td>2973190</td>\n",
       "      <td>-532687.0</td>\n",
       "      <td>2.2</td>\n",
       "      <td>28.0</td>\n",
       "      <td>35.0</td>\n",
       "      <td>17.70</td>\n",
       "    </tr>\n",
       "    <tr>\n",
       "      <th>2</th>\n",
       "      <td>United States</td>\n",
       "      <td>331002651</td>\n",
       "      <td>0.59</td>\n",
       "      <td>1937734</td>\n",
       "      <td>36</td>\n",
       "      <td>9147420</td>\n",
       "      <td>954806.0</td>\n",
       "      <td>1.8</td>\n",
       "      <td>38.0</td>\n",
       "      <td>83.0</td>\n",
       "      <td>4.25</td>\n",
       "    </tr>\n",
       "    <tr>\n",
       "      <th>3</th>\n",
       "      <td>Indonesia</td>\n",
       "      <td>273523615</td>\n",
       "      <td>1.07</td>\n",
       "      <td>2898047</td>\n",
       "      <td>151</td>\n",
       "      <td>1811570</td>\n",
       "      <td>-98955.0</td>\n",
       "      <td>2.3</td>\n",
       "      <td>30.0</td>\n",
       "      <td>56.0</td>\n",
       "      <td>3.51</td>\n",
       "    </tr>\n",
       "    <tr>\n",
       "      <th>4</th>\n",
       "      <td>Pakistan</td>\n",
       "      <td>220892340</td>\n",
       "      <td>2.00</td>\n",
       "      <td>4327022</td>\n",
       "      <td>287</td>\n",
       "      <td>770880</td>\n",
       "      <td>-233379.0</td>\n",
       "      <td>3.6</td>\n",
       "      <td>23.0</td>\n",
       "      <td>35.0</td>\n",
       "      <td>2.83</td>\n",
       "    </tr>\n",
       "    <tr>\n",
       "      <th>5</th>\n",
       "      <td>Brazil</td>\n",
       "      <td>212559417</td>\n",
       "      <td>0.72</td>\n",
       "      <td>1509890</td>\n",
       "      <td>25</td>\n",
       "      <td>8358140</td>\n",
       "      <td>21200.0</td>\n",
       "      <td>1.7</td>\n",
       "      <td>33.0</td>\n",
       "      <td>88.0</td>\n",
       "      <td>2.73</td>\n",
       "    </tr>\n",
       "    <tr>\n",
       "      <th>6</th>\n",
       "      <td>Nigeria</td>\n",
       "      <td>206139589</td>\n",
       "      <td>2.58</td>\n",
       "      <td>5175990</td>\n",
       "      <td>226</td>\n",
       "      <td>910770</td>\n",
       "      <td>-60000.0</td>\n",
       "      <td>5.4</td>\n",
       "      <td>18.0</td>\n",
       "      <td>52.0</td>\n",
       "      <td>2.64</td>\n",
       "    </tr>\n",
       "    <tr>\n",
       "      <th>7</th>\n",
       "      <td>Bangladesh</td>\n",
       "      <td>164689383</td>\n",
       "      <td>1.01</td>\n",
       "      <td>1643222</td>\n",
       "      <td>1265</td>\n",
       "      <td>130170</td>\n",
       "      <td>-369501.0</td>\n",
       "      <td>2.1</td>\n",
       "      <td>28.0</td>\n",
       "      <td>39.0</td>\n",
       "      <td>2.11</td>\n",
       "    </tr>\n",
       "    <tr>\n",
       "      <th>8</th>\n",
       "      <td>Russia</td>\n",
       "      <td>145934462</td>\n",
       "      <td>0.04</td>\n",
       "      <td>62206</td>\n",
       "      <td>9</td>\n",
       "      <td>16376870</td>\n",
       "      <td>182456.0</td>\n",
       "      <td>1.8</td>\n",
       "      <td>40.0</td>\n",
       "      <td>74.0</td>\n",
       "      <td>1.87</td>\n",
       "    </tr>\n",
       "    <tr>\n",
       "      <th>9</th>\n",
       "      <td>Mexico</td>\n",
       "      <td>128932753</td>\n",
       "      <td>1.06</td>\n",
       "      <td>1357224</td>\n",
       "      <td>66</td>\n",
       "      <td>1943950</td>\n",
       "      <td>-60000.0</td>\n",
       "      <td>2.1</td>\n",
       "      <td>29.0</td>\n",
       "      <td>84.0</td>\n",
       "      <td>1.65</td>\n",
       "    </tr>\n",
       "  </tbody>\n",
       "</table>\n",
       "</div>"
      ],
      "text/plain": [
       "  Country (or dependency)  Population (2020)  Yearly Change %  Net Change  \\\n",
       "0                   China         1439323776             0.39     5540090   \n",
       "1                   India         1380004385             0.99    13586631   \n",
       "2           United States          331002651             0.59     1937734   \n",
       "3               Indonesia          273523615             1.07     2898047   \n",
       "4                Pakistan          220892340             2.00     4327022   \n",
       "5                  Brazil          212559417             0.72     1509890   \n",
       "6                 Nigeria          206139589             2.58     5175990   \n",
       "7              Bangladesh          164689383             1.01     1643222   \n",
       "8                  Russia          145934462             0.04       62206   \n",
       "9                  Mexico          128932753             1.06     1357224   \n",
       "\n",
       "   Density (P/Km²)  Land Area (Km²)  Migrants (net)  Fert. Rate  Med. Age  \\\n",
       "0              153          9388211       -348399.0         1.7      38.0   \n",
       "1              464          2973190       -532687.0         2.2      28.0   \n",
       "2               36          9147420        954806.0         1.8      38.0   \n",
       "3              151          1811570        -98955.0         2.3      30.0   \n",
       "4              287           770880       -233379.0         3.6      23.0   \n",
       "5               25          8358140         21200.0         1.7      33.0   \n",
       "6              226           910770        -60000.0         5.4      18.0   \n",
       "7             1265           130170       -369501.0         2.1      28.0   \n",
       "8                9         16376870        182456.0         1.8      40.0   \n",
       "9               66          1943950        -60000.0         2.1      29.0   \n",
       "\n",
       "   Urban Pop %  World Share %  \n",
       "0         61.0          18.47  \n",
       "1         35.0          17.70  \n",
       "2         83.0           4.25  \n",
       "3         56.0           3.51  \n",
       "4         35.0           2.83  \n",
       "5         88.0           2.73  \n",
       "6         52.0           2.64  \n",
       "7         39.0           2.11  \n",
       "8         74.0           1.87  \n",
       "9         84.0           1.65  "
      ]
     },
     "execution_count": 2,
     "metadata": {},
     "output_type": "execute_result"
    }
   ],
   "source": [
    "world_pop = pd.read_csv('Resources/pop_worldometer_data.csv')\n",
    "world_pop.head(10)"
   ]
  },
  {
   "cell_type": "code",
   "execution_count": 3,
   "id": "4dd8abb7",
   "metadata": {},
   "outputs": [],
   "source": [
    "world_pop = world_pop.drop([\"Country (or dependency)\"], axis=1)"
   ]
  },
  {
   "cell_type": "code",
   "execution_count": 4,
   "id": "b3c3e114",
   "metadata": {},
   "outputs": [
    {
     "data": {
      "text/html": [
       "<div>\n",
       "<style scoped>\n",
       "    .dataframe tbody tr th:only-of-type {\n",
       "        vertical-align: middle;\n",
       "    }\n",
       "\n",
       "    .dataframe tbody tr th {\n",
       "        vertical-align: top;\n",
       "    }\n",
       "\n",
       "    .dataframe thead th {\n",
       "        text-align: right;\n",
       "    }\n",
       "</style>\n",
       "<table border=\"1\" class=\"dataframe\">\n",
       "  <thead>\n",
       "    <tr style=\"text-align: right;\">\n",
       "      <th></th>\n",
       "      <th>Population (2020)</th>\n",
       "      <th>Yearly Change %</th>\n",
       "      <th>Net Change</th>\n",
       "      <th>Density (P/Km²)</th>\n",
       "      <th>Land Area (Km²)</th>\n",
       "      <th>Migrants (net)</th>\n",
       "      <th>Fert. Rate</th>\n",
       "      <th>Med. Age</th>\n",
       "      <th>Urban Pop %</th>\n",
       "      <th>World Share %</th>\n",
       "    </tr>\n",
       "  </thead>\n",
       "  <tbody>\n",
       "    <tr>\n",
       "      <th>0</th>\n",
       "      <td>1439323776</td>\n",
       "      <td>0.39</td>\n",
       "      <td>5540090</td>\n",
       "      <td>153</td>\n",
       "      <td>9388211</td>\n",
       "      <td>-348399.0</td>\n",
       "      <td>1.7</td>\n",
       "      <td>38.0</td>\n",
       "      <td>61.0</td>\n",
       "      <td>18.47</td>\n",
       "    </tr>\n",
       "    <tr>\n",
       "      <th>1</th>\n",
       "      <td>1380004385</td>\n",
       "      <td>0.99</td>\n",
       "      <td>13586631</td>\n",
       "      <td>464</td>\n",
       "      <td>2973190</td>\n",
       "      <td>-532687.0</td>\n",
       "      <td>2.2</td>\n",
       "      <td>28.0</td>\n",
       "      <td>35.0</td>\n",
       "      <td>17.70</td>\n",
       "    </tr>\n",
       "    <tr>\n",
       "      <th>2</th>\n",
       "      <td>331002651</td>\n",
       "      <td>0.59</td>\n",
       "      <td>1937734</td>\n",
       "      <td>36</td>\n",
       "      <td>9147420</td>\n",
       "      <td>954806.0</td>\n",
       "      <td>1.8</td>\n",
       "      <td>38.0</td>\n",
       "      <td>83.0</td>\n",
       "      <td>4.25</td>\n",
       "    </tr>\n",
       "    <tr>\n",
       "      <th>3</th>\n",
       "      <td>273523615</td>\n",
       "      <td>1.07</td>\n",
       "      <td>2898047</td>\n",
       "      <td>151</td>\n",
       "      <td>1811570</td>\n",
       "      <td>-98955.0</td>\n",
       "      <td>2.3</td>\n",
       "      <td>30.0</td>\n",
       "      <td>56.0</td>\n",
       "      <td>3.51</td>\n",
       "    </tr>\n",
       "    <tr>\n",
       "      <th>4</th>\n",
       "      <td>220892340</td>\n",
       "      <td>2.00</td>\n",
       "      <td>4327022</td>\n",
       "      <td>287</td>\n",
       "      <td>770880</td>\n",
       "      <td>-233379.0</td>\n",
       "      <td>3.6</td>\n",
       "      <td>23.0</td>\n",
       "      <td>35.0</td>\n",
       "      <td>2.83</td>\n",
       "    </tr>\n",
       "  </tbody>\n",
       "</table>\n",
       "</div>"
      ],
      "text/plain": [
       "   Population (2020)  Yearly Change %  Net Change  Density (P/Km²)  \\\n",
       "0         1439323776             0.39     5540090              153   \n",
       "1         1380004385             0.99    13586631              464   \n",
       "2          331002651             0.59     1937734               36   \n",
       "3          273523615             1.07     2898047              151   \n",
       "4          220892340             2.00     4327022              287   \n",
       "\n",
       "   Land Area (Km²)  Migrants (net)  Fert. Rate  Med. Age  Urban Pop %  \\\n",
       "0          9388211       -348399.0         1.7      38.0         61.0   \n",
       "1          2973190       -532687.0         2.2      28.0         35.0   \n",
       "2          9147420        954806.0         1.8      38.0         83.0   \n",
       "3          1811570        -98955.0         2.3      30.0         56.0   \n",
       "4           770880       -233379.0         3.6      23.0         35.0   \n",
       "\n",
       "   World Share %  \n",
       "0          18.47  \n",
       "1          17.70  \n",
       "2           4.25  \n",
       "3           3.51  \n",
       "4           2.83  "
      ]
     },
     "execution_count": 4,
     "metadata": {},
     "output_type": "execute_result"
    }
   ],
   "source": [
    "world_pop = world_pop.dropna()\n",
    "world_pop.head()"
   ]
  },
  {
   "cell_type": "code",
   "execution_count": 5,
   "id": "4f9e4abf",
   "metadata": {},
   "outputs": [],
   "source": [
    "# Remove 'Yearly Change %' target from features data\n",
    "\n",
    "y = world_pop['Yearly Change %']\n",
    "X = world_pop.drop(['Yearly Change %'], axis=1)"
   ]
  },
  {
   "cell_type": "code",
   "execution_count": 6,
   "id": "a9e0b21c",
   "metadata": {},
   "outputs": [
    {
     "data": {
      "text/plain": [
       "0      0.39\n",
       "1      0.99\n",
       "2      0.59\n",
       "3      1.07\n",
       "4      2.00\n",
       "       ... \n",
       "195    0.32\n",
       "196    0.43\n",
       "197    1.15\n",
       "199    0.62\n",
       "200    0.84\n",
       "Name: Yearly Change %, Length: 172, dtype: float64"
      ]
     },
     "execution_count": 6,
     "metadata": {},
     "output_type": "execute_result"
    }
   ],
   "source": [
    "y"
   ]
  },
  {
   "cell_type": "code",
   "execution_count": 7,
   "id": "7f0bcf78",
   "metadata": {},
   "outputs": [],
   "source": [
    "# Split training/test datasets\n",
    "X_train, X_test, y_train, y_test = train_test_split(X, y,)\n",
    "\n",
    "# Create a StandardScaler instance\n",
    "scaler = StandardScaler()\n",
    "\n",
    "# Fit the StandardScaler\n",
    "X_scaler = scaler.fit(X_train)\n",
    "\n",
    "# Scale the data\n",
    "X_train_scaled = X_scaler.transform(X_train)\n",
    "X_test_scaled = X_scaler.transform(X_test)"
   ]
  },
  {
   "cell_type": "code",
   "execution_count": 8,
   "id": "cb3f20b6",
   "metadata": {},
   "outputs": [
    {
     "name": "stdout",
     "output_type": "stream",
     "text": [
      "     Population (2020)  Net Change  Density (P/Km²)  Land Area (Km²)  \\\n",
      "179             341243        2212                3           100250   \n",
      "188             183627         837              301              610   \n",
      "20            67886011      355839              281           241930   \n",
      "56            23816775       42899              673            35410   \n",
      "136            2963243        5512              104            28470   \n",
      "..                 ...         ...              ...              ...   \n",
      "41            33469203      487487               79           425400   \n",
      "59            20250833      592802               17          1220190   \n",
      "152            1402985       46999               50            28050   \n",
      "76            12123200      322049              108           112760   \n",
      "66            17643054      269392               71           248360   \n",
      "\n",
      "     Migrants (net)  Fert. Rate  Med. Age  Urban Pop %  World Share %  \n",
      "179           380.0         1.8      37.0         94.0           0.00  \n",
      "188             0.0         1.4      34.0         19.0           0.00  \n",
      "20         260650.0         1.8      40.0         83.0           0.87  \n",
      "56          30001.0         1.2      42.0         79.0           0.31  \n",
      "136         -4998.0         1.8      35.0         63.0           0.04  \n",
      "..              ...         ...       ...          ...            ...  \n",
      "41          -8863.0         2.4      28.0         50.0           0.43  \n",
      "59         -40000.0         5.9      16.0         44.0           0.26  \n",
      "152         16000.0         4.6      22.0         73.0           0.02  \n",
      "76          -2000.0         4.9      19.0         48.0           0.16  \n",
      "66          36400.0         2.4      28.0         63.0           0.23  \n",
      "\n",
      "[129 rows x 9 columns]\n"
     ]
    }
   ],
   "source": [
    "print(X_train)\n"
   ]
  },
  {
   "cell_type": "code",
   "execution_count": 9,
   "id": "55424b3d",
   "metadata": {},
   "outputs": [
    {
     "data": {
      "text/plain": [
       "dtype('float64')"
      ]
     },
     "execution_count": 9,
     "metadata": {},
     "output_type": "execute_result"
    }
   ],
   "source": [
    "X_train['Fert. Rate'].dtypes"
   ]
  },
  {
   "cell_type": "code",
   "execution_count": 10,
   "id": "5383e19f",
   "metadata": {},
   "outputs": [
    {
     "data": {
      "text/plain": [
       "dtype('float64')"
      ]
     },
     "execution_count": 10,
     "metadata": {},
     "output_type": "execute_result"
    }
   ],
   "source": [
    "y_train.dtypes"
   ]
  },
  {
   "cell_type": "code",
   "execution_count": 11,
   "id": "0308052f",
   "metadata": {},
   "outputs": [
    {
     "name": "stdout",
     "output_type": "stream",
     "text": [
      "129\n",
      "43\n"
     ]
    }
   ],
   "source": [
    "print(len(X_train_scaled))\n",
    "print(len(X_test_scaled))"
   ]
  },
  {
   "cell_type": "code",
   "execution_count": 12,
   "id": "cedf999f",
   "metadata": {},
   "outputs": [
    {
     "name": "stdout",
     "output_type": "stream",
     "text": [
      " Mean Squared Error: 2067602098484329728.000\n"
     ]
    }
   ],
   "source": [
    "# Define linear regression model\n",
    "from sklearn.metrics import mean_squared_error\n",
    "from sklearn.linear_model import LinearRegression\n",
    "\n",
    "lin_classifier = LinearRegression()\n",
    "\n",
    "# Train the model\n",
    "lin_classifier.fit(X_train_scaled,y_train)\n",
    "\n",
    "# Evaluate the model\n",
    "y_pred = lin_classifier.predict(X_test)\n",
    "print(f\" Mean Squared Error: {mean_squared_error(y_test,y_pred):.3f}\")"
   ]
  },
  {
   "cell_type": "code",
   "execution_count": 18,
   "id": "0386d254",
   "metadata": {},
   "outputs": [
    {
     "name": "stdout",
     "output_type": "stream",
     "text": [
      " Mean Squared Error: 133250114534.032\n"
     ]
    }
   ],
   "source": [
    "# Define basic neural network model\n",
    "\n",
    "from keras.models import Sequential\n",
    "nn_model = Sequential()\n",
    "nn_model.add(tf.keras.layers.Dense(9, input_dim=9, kernel_initializer='normal', activation='relu'))\n",
    "nn_model.add(tf.keras.layers.Dense(1, kernel_initializer='normal'))\n",
    "# Compile model\n",
    "nn_model.compile(loss='mean_squared_error', optimizer='adam')\n",
    "y_pred = nn_model.predict(X_test)\n",
    "print(f\" Mean Squared Error: {mean_squared_error(y_test,y_pred):.3f}\")\n"
   ]
  },
  {
   "cell_type": "code",
   "execution_count": 14,
   "id": "fb272b39",
   "metadata": {},
   "outputs": [
    {
     "data": {
      "text/plain": [
       "array([ 22,  16,  18,   8,   9,  58,  21,  94,  98,  39,  10,  33,  40,\n",
       "        44,  52,  60,  28,  78,   0,  33, 100,  41,  72,  73,  50,  93,\n",
       "        59,  64,  32,  76,   3,  79,  77,  49,  71,  24,  23,  91,  66,\n",
       "        85,   2,  88,  30,  42,  87,  56,  36,  53,  67,  89,  68,  19,\n",
       "        34,   1,  43,  80,  92,   6,  10,  29,  48,  86, 108,  65,  90,\n",
       "        51,   7,  74,  15, 105,  12,  38,  47,  27,  63,  36,  84,  83,\n",
       "       102,  59, 109,  81,  20,  71,   4,  99,  81,  23,  49,  95,  26,\n",
       "        14,  11,  17,  36,  69,  89,  54,  16,  25,  15,  54,  57,  31,\n",
       "        97,  37, 101,  13,  80,  62,  70,  35,  41,  75,   5,  15,  39,\n",
       "       106,  55,  13,  82, 104,  46,  45,  59, 103, 107,  96,  61],\n",
       "      dtype=int64)"
      ]
     },
     "execution_count": 14,
     "metadata": {},
     "output_type": "execute_result"
    }
   ],
   "source": [
    "from sklearn import preprocessing\n",
    "from sklearn import utils\n",
    "\n",
    "lab_enc = preprocessing.LabelEncoder()\n",
    "encoded = lab_enc.fit_transform(y_train)\n",
    "encoded"
   ]
  },
  {
   "cell_type": "code",
   "execution_count": 15,
   "id": "4c502baf",
   "metadata": {},
   "outputs": [],
   "source": [
    " # Try RandomForestRegressor\n",
    "    \n",
    "from sklearn.ensemble import RandomForestRegressor  \n",
    "\n",
    "# Create a random forest regressor.\n",
    "rf_model = RandomForestRegressor(n_estimators=128, random_state=78)"
   ]
  },
  {
   "cell_type": "code",
   "execution_count": 16,
   "id": "c444b850",
   "metadata": {},
   "outputs": [],
   "source": [
    "# Fitting the model\n",
    "rf_model = rf_model.fit(X_train_scaled, y_train)"
   ]
  },
  {
   "cell_type": "code",
   "execution_count": 17,
   "id": "1c37de6c",
   "metadata": {},
   "outputs": [
    {
     "name": "stdout",
     "output_type": "stream",
     "text": [
      " Mean Squared Error: 0.164\n"
     ]
    }
   ],
   "source": [
    "# Evaluate the model\n",
    "y_pred = rf_model.predict(X_test_scaled)\n",
    "print(f\" Mean Squared Error: {mean_squared_error(y_test,y_pred):.3f}\")"
   ]
  },
  {
   "cell_type": "code",
   "execution_count": null,
   "id": "53d76996",
   "metadata": {},
   "outputs": [],
   "source": []
  }
 ],
 "metadata": {
  "kernelspec": {
   "display_name": "mlenv",
   "language": "python",
   "name": "mlenv"
  },
  "language_info": {
   "codemirror_mode": {
    "name": "ipython",
    "version": 3
   },
   "file_extension": ".py",
   "mimetype": "text/x-python",
   "name": "python",
   "nbconvert_exporter": "python",
   "pygments_lexer": "ipython3",
   "version": "3.7.10"
  }
 },
 "nbformat": 4,
 "nbformat_minor": 5
}

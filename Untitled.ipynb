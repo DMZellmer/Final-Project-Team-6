{
 "cells": [
  {
   "cell_type": "code",
   "execution_count": null,
   "id": "f929e029",
   "metadata": {},
   "outputs": [],
   "source": [
    "#invite people for the Kaggle party\n",
    "import pandas as pd\n",
    "import matplotlib.pyplot as plt\n",
    "import seaborn as sns\n",
    "import numpy as np\n",
    "from scipy.stats import norm\n",
    "from sklearn.preprocessing import StandardScaler\n",
    "from scipy import stats\n",
    "import warnings\n",
    "warnings.filterwarnings('ignore')\n",
    "%matplotlib inline"
   ]
  },
  {
   "cell_type": "code",
   "execution_count": null,
   "id": "bfcaf27d",
   "metadata": {},
   "outputs": [],
   "source": [
    "world_pop = pd.read_csv('Resources/pop_worldometer_data.csv')\n",
    "world_pop.head(10)"
   ]
  },
  {
   "cell_type": "code",
   "execution_count": null,
   "id": "70c2dd1e",
   "metadata": {},
   "outputs": [],
   "source": [
    "world_pop = world_pop.drop([\"Country (or dependency)\"], axis=1)"
   ]
  },
  {
   "cell_type": "code",
   "execution_count": null,
   "id": "babba6dd",
   "metadata": {},
   "outputs": [],
   "source": [
    "world_pop = world_pop.dropna()"
   ]
  },
  {
   "cell_type": "code",
   "execution_count": null,
   "id": "a49e43ee",
   "metadata": {},
   "outputs": [],
   "source": [
    "#histogram\n",
    "sns.distplot(world_pop.['Net']"
   ]
  }
 ],
 "metadata": {
  "kernelspec": {
   "display_name": "mlenv",
   "language": "python",
   "name": "mlenv"
  },
  "language_info": {
   "codemirror_mode": {
    "name": "ipython",
    "version": 3
   },
   "file_extension": ".py",
   "mimetype": "text/x-python",
   "name": "python",
   "nbconvert_exporter": "python",
   "pygments_lexer": "ipython3",
   "version": "3.7.10"
  }
 },
 "nbformat": 4,
 "nbformat_minor": 5
}
